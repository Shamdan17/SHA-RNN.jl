{
 "cells": [
  {
   "cell_type": "code",
   "execution_count": 22,
   "metadata": {},
   "outputs": [
    {
     "data": {
      "text/plain": [
       "train! (generic function with 1 method)"
      ]
     },
     "execution_count": 22,
     "metadata": {},
     "output_type": "execute_result"
    }
   ],
   "source": [
    "using Knet\n",
    "\n",
    "include(\"../src/data.jl\")\n",
    "include(\"../src/model.jl\")"
   ]
  },
  {
   "cell_type": "code",
   "execution_count": 2,
   "metadata": {},
   "outputs": [
    {
     "name": "stdout",
     "output_type": "stream",
     "text": [
      "Loading data from ../jld2/enwik8.jld2\n"
     ]
    },
    {
     "data": {
      "text/plain": [
       "Vocab(Dict(\"54\" => 67,\"101\" => 4,\"41\" => 52,\"65\" => 38,\"168\" => 126,\"159\" => 175,\"228\" => 183,\"190\" => 117,\"227\" => 96,\"88\" => 104…), [\"<s>\", \"<unk>\", \"32\", \"101\", \"116\", \"97\", \"105\", \"111\", \"110\", \"114\"  …  \"210\", \"239\", \"211\", \"198\", \"212\", \"240\", \"205\", \"220\", \"222\", \"200\"], 2, 1, split)"
      ]
     },
     "execution_count": 2,
     "metadata": {},
     "output_type": "execute_result"
    }
   ],
   "source": [
    "datadir = \"../data/enwik8\"\n",
    "jld2dir = \"../jld2/enwik8.jld2\"\n",
    "\n",
    "if !isfile(jld2dir)\n",
    "    BATCHSIZE = 64\n",
    "    println(\"Reading data from directory: $datadir\")\n",
    "    println(\"Setting batch size to $BATCHSIZE\")\n",
    "    vocab = Vocab(\"$datadir/train.txt\")\n",
    "    trainfile = TextReader(\"$datadir/train.txt\", vocab)\n",
    "    validfile = TextReader(\"$datadir/valid.txt\", vocab)\n",
    "    testfile = TextReader(\"$datadir/test.txt\", vocab)\n",
    "    dtrn = TextData(trainfile, batchsize=BATCHSIZE)\n",
    "    ddev = TextData(validfile, batchsize=BATCHSIZE)\n",
    "    dtst = TextData(testfile, batchsize=BATCHSIZE)\n",
    "    println(\"Saving data from $jld2dir\")\n",
    "    Knet.save(jld2dir, \"dtrn\", dtrn, \"dtst\", dtst, \"ddev\", ddev)\n",
    "else \n",
    "    println(\"Loading data from $jld2dir\")\n",
    "    (dtrn, dtst, ddev) = Knet.load(jld2dir, \"dtrn\", \"dtst\", \"ddev\")\n",
    "    vocab = dtrn.src.vocab\n",
    "end"
   ]
  },
  {
   "cell_type": "code",
   "execution_count": null,
   "metadata": {},
   "outputs": [],
   "source": [
    "@info \"Initializing and Training Language Model\"\n",
    "epochs, em_size, hidden_size, layers = 3, 256, 256, 2\n",
    "println(\"embedding size: \", em_size)\n",
    "println(\"hidden size: \", hidden_size)\n",
    "println(\"layers: \", layers)\n",
    "\n",
    "println(\"Collecting training data...\")\n",
    "println(\"epochs: \", epochs)\n",
    "ctrn = collect(dtrn)\n",
    "trnx10 = collect(flatten(shuffle!(ctrn) for i in 1:epochs))\n",
    "trnmini = ctrn[1:20]\n",
    "dev = collect(ddev)\n",
    "\n",
    "model = SimpleLSTMModel(em_size, hidden_size, vocab; layers=layers, dropout=0.2)"
   ]
  },
  {
   "cell_type": "code",
   "execution_count": 42,
   "metadata": {},
   "outputs": [
    {
     "name": "stderr",
     "output_type": "stream",
     "text": [
      "\n",
      "┣                    ┫ [0.02%, 1/4122, 00:14/15:40:51, 13.70s/i] (trnloss = (1.6159786f0,), trnppl = (5.0328107f0,), trnbpc = (2.331364310375221,), devloss = 1.6195295f0, devppl = 5.0507135f0, devbpc = 2.3364871575964714)\n",
      "┣▎                   ┫ [1.29%, 53/4122, 00:57/01:14:32, 1.19i/s] (trnloss = (1.6132574f0,), trnppl = (5.019134f0,), trnbpc = (2.3274384624039754,), devloss = 1.6172383f0, devppl = 5.0391545f0, devbpc = 2.333181651046888)\n",
      "┣▌                   ┫ [2.57%, 106/4122, 01:41/01:05:23, 1.22i/s] (trnloss = (1.6119295f0,), trnppl = (5.0124736f0,), trnbpc = (2.3255227476560147,), devloss = 1.6151806f0, devppl = 5.028796f0, devbpc = 2.330213058510345)\n",
      "┣▊                   ┫ [3.86%, 159/4122, 02:25/01:02:33, 1.21i/s] (trnloss = (1.6103592f0,), trnppl = (5.0046086f0,), trnbpc = (2.323257220196199,), devloss = 1.613553f0, devppl = 5.020618f0, devbpc = 2.3278649793781154)\n",
      "┣█                   ┫ [5.12%, 211/4122, 03:09/01:01:26, 1.18i/s] (trnloss = (1.6081607f0,), trnppl = (4.993618f0,), trnbpc = (2.320085516148987,), devloss = 1.6114665f0, devppl = 5.0101533f0, devbpc = 2.3248547670400637)\n",
      "┣█▎                  ┫ [6.40%, 264/4122, 03:52/01:00:23, 1.22i/s] (trnloss = (1.607139f0,), trnppl = (4.9885187f0,), trnbpc = (2.318611452848442,), devloss = 1.6103021f0, devppl = 5.004323f0, devbpc = 2.3231748405064354)\n",
      "┣█▌                  ┫ [7.69%, 317/4122, 04:36/59:48, 1.21i/s] (trnloss = (1.6056439f0,), trnppl = (4.9810658f0,), trnbpc = (2.3164544464413206,), devloss = 1.6087853f0, devppl = 4.996738f0, devbpc = 2.3209865332568573)\n",
      "┣█▊                  ┫ [8.93%, 368/4122, 05:19/59:37, 1.17i/s] (trnloss = (1.6046165f0,), trnppl = (4.975951f0,), trnbpc = (2.314972299956185,), devloss = 1.6081277f0, devppl = 4.993453f0, devbpc = 2.320037876954698)\n",
      "┣██                  ┫ [10.21%, 421/4122, 06:03/59:12, 1.22i/s] (trnloss = (1.6039219f0,), trnppl = (4.972496f0,), trnbpc = (2.3139701570496074,), devloss = 1.6072288f0, devppl = 4.9889665f0, devbpc = 2.3187409557845418)\n",
      "┣██▎                 ┫ [11.50%, 474/4122, 06:47/58:57, 1.21i/s] (trnloss = (1.601004f0,), trnppl = (4.958008f0,), trnbpc = (2.309760537704438,), devloss = 1.6042447f0, devppl = 4.974101f0, devbpc = 2.3144358860681438)\n",
      "┣██▌                 ┫ [12.76%, 526/4122, 07:31/58:52, 1.18i/s] (trnloss = (1.5985558f0,), trnppl = (4.945884f0,), trnbpc = (2.306228530003669,), devloss = 1.6021954f0, devppl = 4.963918f0, devbpc = 2.311479332317161)\n",
      "┣██▊                 ┫ [14.05%, 579/4122, 08:14/58:38, 1.22i/s] (trnloss = (1.5976683f0,), trnppl = (4.941497f0,), trnbpc = (2.304948119167995,), devloss = 1.6011149f0, devppl = 4.9585576f0, devbpc = 2.3099204815697405)\n",
      "┣███                 ┫ [15.33%, 632/4122, 08:58/58:29, 1.21i/s] (trnloss = (1.5956703f0,), trnppl = (4.931634f0,), trnbpc = (2.3020656899395346,), devloss = 1.5998031f0, devppl = 4.9520574f0, devbpc = 2.3080279844796463)\n",
      "┣███▎                ┫ [16.57%, 683/4122, 09:42/58:30, 1.17i/s] (trnloss = (1.593632f0,), trnppl = (4.9215918f0,), trnbpc = (2.299124958592431,), devloss = 1.5973303f0, devppl = 4.939827f0, devbpc = 2.304460548352799)\n",
      "┣███▌                ┫ [17.86%, 736/4122, 10:25/58:21, 1.22i/s] (trnloss = (1.5922061f0,), trnppl = (4.9145794f0,), trnbpc = (2.297067874105461,), devloss = 1.5957792f0, devppl = 4.932171f0, devbpc = 2.3022227100997723)\n",
      "┣███▊                ┫ [19.14%, 789/4122, 11:09/58:15, 1.21i/s] (trnloss = (1.5915182f0,), trnppl = (4.911199f0,), trnbpc = (2.296075362227332,), devloss = 1.594958f0, devppl = 4.9281216f0, devbpc = 2.3010379216179784)\n",
      "┣████                ┫ [20.38%, 840/4122, 11:52/58:16, 1.17i/s] (trnloss = (1.590582f0,), trnppl = (4.906604f0,), trnbpc = (2.2947247824701065,), devloss = 1.5938972f0, devppl = 4.9228973f0, devbpc = 2.2995076199906013)\n",
      "┣████▎               ┫ [21.66%, 893/4122, 12:36/58:10, 1.21i/s] (trnloss = (1.5878412f0,), trnppl = (4.893174f0,), trnbpc = (2.2907705573614687,), devloss = 1.591333f0, devppl = 4.9102902f0, devbpc = 2.2958082731705423)\n",
      "┣████▌               ┫ [22.93%, 945/4122, 13:20/58:09, 1.19i/s] (trnloss = (1.586884f0,), trnppl = (4.8884926f0,), trnbpc = (2.289389708657691,), devloss = 1.5903478f0, devppl = 4.9054546f0, devbpc = 2.294386836561161)\n",
      "┣████▊               ┫ [24.16%, 996/4122, 14:04/58:11, 1.16i/s] (trnloss = (1.586364f0,), trnppl = (4.8859515f0,), trnbpc = (2.2886395203346277,), devloss = 1.5899082f0, devppl = 4.903299f0, devbpc = 2.2937527365274297)\n",
      "┣█████               ┫ [25.42%, 1048/4122, 14:47/58:08, 1.20i/s] (trnloss = (1.5848424f0,), trnppl = (4.878523f0,), trnbpc = (2.2864443337790146,), devloss = 1.5884361f0, devppl = 4.896086f0, devbpc = 2.291628922771925)\n",
      "┣█████▎              ┫ [26.69%, 1100/4122, 15:31/58:07, 1.19i/s] (trnloss = (1.5834291f0,), trnppl = (4.8716326f0,), trnbpc = (2.284405307470385,), devloss = 1.5862724f0, devppl = 4.885504f0, devbpc = 2.288507265676114)\n",
      "┣█████▌              ┫ [27.92%, 1151/4122, 16:14/58:10, 1.16i/s] (trnloss = (1.5818387f0,), trnppl = (4.863891f0,), trnbpc = (2.2821108869252247,), devloss = 1.585636f0, devppl = 4.8823957f0, devbpc = 2.2875892222858085)\n",
      "┣█████▊              ┫ [29.18%, 1203/4122, 16:58/58:08, 1.19i/s] (trnloss = (1.5799795f0,), trnppl = (4.8548565f0,), trnbpc = (2.2794286455023682,), devloss = 1.5838888f0, devppl = 4.8738723f0, devbpc = 2.2850684725721124)\n",
      "┣██████              ┫ [30.47%, 1256/4122, 17:42/58:04, 1.21i/s] (trnloss = (1.5789912f0,), trnppl = (4.8500605f0,), trnbpc = (2.2780027373440648,), devloss = 1.5820212f0, devppl = 4.8647785f0, devbpc = 2.2823741923636955)\n",
      "┣██████▎             ┫ [31.71%, 1307/4122, 18:25/58:05, 1.17i/s] (trnloss = (1.5771636f0,), trnppl = (4.8412046f0,), trnbpc = (2.275366071323687,), devloss = 1.5818566f0, devppl = 4.863978f0, devbpc = 2.282136684322854)\n",
      "┣██████▌             ┫ [32.99%, 1360/4122, 19:09/58:02, 1.21i/s] (trnloss = (1.5752738f0,), trnppl = (4.832064f0,), trnbpc = (2.2726396303595586,), devloss = 1.5792098f0, devppl = 4.851121f0, devbpc = 2.278318153525747)\n",
      "┣██████▊             ┫ [34.28%, 1413/4122, 19:52/57:58, 1.22i/s] (trnloss = (1.5743315f0,), trnppl = (4.8275137f0,), trnbpc = (2.271280279487139,), devloss = 1.5782531f0, devppl = 4.8464823f0, devbpc = 2.276937992752573)\n",
      "┣███████             ┫ [35.49%, 1463/4122, 20:36/58:01, 1.16i/s] (trnloss = (1.5726827f0,), trnppl = (4.8195605f0,), trnbpc = (2.2689015874430556,), devloss = 1.5763367f0, devppl = 4.8372035f0, devbpc = 2.2741731996573025)\n",
      "┣███████▎            ┫ [36.75%, 1515/4122, 21:19/57:59, 1.20i/s] (trnloss = (1.5726519f0,), trnppl = (4.8194118f0,), trnbpc = (2.268857043936482,), devloss = 1.5764204f0, devppl = 4.8376083f0, devbpc = 2.274293931478208)\n",
      "┣███████▌            ┫ [38.04%, 1568/4122, 22:02/57:57, 1.21i/s] (trnloss = (1.5700543f0,), trnppl = (4.806909f0,), trnbpc = (2.265109541974182,), devloss = 1.5740148f0, devppl = 4.8259845f0, devbpc = 2.2708233215837965)\n",
      "┣███████▊            ┫ [39.25%, 1618/4122, 22:46/57:59, 1.16i/s] (trnloss = (1.5697185f0,), trnppl = (4.805295f0,), trnbpc = (2.264625066846701,), devloss = 1.5741997f0, devppl = 4.826877f0, devbpc = 2.271090066675285)\n",
      "┣████████            ┫ [40.51%, 1670/4122, 23:29/57:58, 1.20i/s] (trnloss = (1.5663607f0,), trnppl = (4.7891874f0,), trnbpc = (2.259780831519848,), devloss = 1.5703062f0, devppl = 4.8081203f0, devbpc = 2.265472941315455)\n",
      "┣████████▎           ┫ [41.80%, 1723/4122, 24:13/57:55, 1.21i/s] (trnloss = (1.5662138f0,), trnppl = (4.7884836f0,), trnbpc = (2.2595689488939854,), devloss = 1.5707225f0, devppl = 4.810122f0, devbpc = 2.2660735047322675)\n",
      "┣████████▌           ┫ [43.04%, 1774/4122, 24:56/57:57, 1.17i/s] (trnloss = (1.5652455f0,), trnppl = (4.7838492f0,), trnbpc = (2.2581719338210267,), devloss = 1.5692474f0, devppl = 4.803032f0, devbpc = 2.2639453914104912)\n",
      "┣████████▊           ┫ [44.30%, 1826/4122, 25:40/57:55, 1.20i/s] (trnloss = (1.5637581f0,), trnppl = (4.776739f0,), trnbpc = (2.2560261062862117,), devloss = 1.567552f0, devppl = 4.7948956f0, devbpc = 2.2614994541499205)\n",
      "┣█████████           ┫ [45.56%, 1878/4122, 26:23/57:54, 1.20i/s] (trnloss = (1.5623839f0,), trnppl = (4.7701793f0,), trnbpc = (2.254043490287065,), devloss = 1.5665305f0, devppl = 4.7900004f0, devbpc = 2.260025734814677)\n"
     ]
    },
    {
     "name": "stderr",
     "output_type": "stream",
     "text": [
      "┣█████████▎          ┫ [46.80%, 1929/4122, 27:06/57:55, 1.17i/s] (trnloss = (1.5613579f0,), trnppl = (4.7652874f0,), trnbpc = (2.2525632356110887,), devloss = 1.5651946f0, devppl = 4.7836056f0, devbpc = 2.2580984972291085)\n",
      "┣█████████▌          ┫ [48.08%, 1982/4122, 27:50/57:53, 1.21i/s] (trnloss = (1.5605316f0,), trnppl = (4.7613516f0,), trnbpc = (2.2513712238579586,), devloss = 1.5642446f0, devppl = 4.7790637f0, devbpc = 2.2567279674843825)\n",
      "┣█████████▊          ┫ [49.37%, 2035/4122, 28:34/57:52, 1.21i/s] (trnloss = (1.5586568f0,), trnppl = (4.752434f0,), trnbpc = (2.2486664527078393,), devloss = 1.5621947f0, devppl = 4.769277f0, devbpc = 2.2537705538201456)\n",
      "┣██████████          ┫ [50.58%, 2085/4122, 29:17/57:54, 1.16i/s] (trnloss = (1.5573332f0,), trnppl = (4.7461476f0,), trnbpc = (2.2467569293353096,), devloss = 1.5611525f0, devppl = 4.764309f0, devbpc = 2.252266909503652)\n",
      "┣██████████▎         ┫ [51.87%, 2138/4122, 30:01/57:52, 1.21i/s] (trnloss = (1.5548562f0,), trnppl = (4.7344055f0,), trnbpc = (2.243183301833031,), devloss = 1.5590278f0, devppl = 4.754197f0, devbpc = 2.2492016627173244)\n",
      "┣██████████▋         ┫ [53.15%, 2191/4122, 30:44/57:50, 1.21i/s] (trnloss = (1.5566866f0,), trnppl = (4.7430797f0,), trnbpc = (2.2458240954370297,), devloss = 1.5606123f0, devppl = 4.761736f0, devbpc = 2.2514876561125927)\n",
      "┣██████████▉         ┫ [54.39%, 2242/4122, 31:28/57:51, 1.17i/s] (trnloss = (1.5529159f0,), trnppl = (4.7252283f0,), trnbpc = (2.2403841122075883,), devloss = 1.5564582f0, devppl = 4.7419963f0, devbpc = 2.2454945766779764)\n",
      "┣███████████▏        ┫ [55.68%, 2295/4122, 32:12/57:49, 1.21i/s] (trnloss = (1.5516312f0,), trnppl = (4.719162f0,), trnbpc = (2.2385306551792397,), devloss = 1.5554094f0, devppl = 4.7370257f0, devbpc = 2.2439814733156855)\n",
      "┣███████████▍        ┫ [56.96%, 2348/4122, 32:55/57:48, 1.21i/s] (trnloss = (1.551717f0,), trnppl = (4.719567f0,), trnbpc = (2.2386544826878607,), devloss = 1.5553132f0, devppl = 4.73657f0, devbpc = 2.2438426833164393)\n",
      "┣███████████▋        ┫ [58.20%, 2399/4122, 33:39/57:49, 1.17i/s] (trnloss = (1.5495623f0,), trnppl = (4.7094088f0,), trnbpc = (2.2355458962735155,), devloss = 1.5538878f0, devppl = 4.729823f0, devbpc = 2.241786286760073)\n",
      "┣███████████▉        ┫ [59.49%, 2452/4122, 34:22/57:47, 1.21i/s] (trnloss = (1.5485389f0,), trnppl = (4.7045913f0,), trnbpc = (2.2340694252158584,), devloss = 1.5523181f0, devppl = 4.7224045f0, devbpc = 2.239521619213511)\n",
      "┣████████████▏       ┫ [60.77%, 2505/4122, 35:06/57:46, 1.21i/s] (trnloss = (1.5470723f0,), trnppl = (4.6976967f0,), trnbpc = (2.2319535226622933,), devloss = 1.5519351f0, devppl = 4.7205963f0, devbpc = 2.238969038956289)\n",
      "┣████████████▍       ┫ [62.01%, 2556/4122, 35:50/57:47, 1.17i/s] (trnloss = (1.5466325f0,), trnppl = (4.695631f0,), trnbpc = (2.2313190786632604,), devloss = 1.5512581f0, devppl = 4.7174015f0, devbpc = 2.237992349482039)\n",
      "┣████████████▋       ┫ [63.29%, 2609/4122, 36:33/57:45, 1.21i/s] (trnloss = (1.5447763f0,), trnppl = (4.686923f0,), trnbpc = (2.2286411368066754,), devloss = 1.549224f0, devppl = 4.7078156f0, devbpc = 2.235057809510367)\n",
      "┣████████████▉       ┫ [64.58%, 2662/4122, 37:17/57:44, 1.21i/s] (trnloss = (1.5429664f0,), trnppl = (4.6784477f0,), trnbpc = (2.2260299242186257,), devloss = 1.5469481f0, devppl = 4.697113f0, devbpc = 2.2317743167400943)\n",
      "┣█████████████▏      ┫ [65.82%, 2713/4122, 38:01/57:45, 1.17i/s] (trnloss = (1.5414987f0,), trnppl = (4.671586f0,), trnbpc = (2.2239124738212026,), devloss = 1.5462079f0, devppl = 4.693638f0, devbpc = 2.2307064764608873)\n",
      "┣█████████████▍      ┫ [67.10%, 2766/4122, 38:44/57:44, 1.21i/s] (trnloss = (1.537298f0,), trnppl = (4.6520033f0,), trnbpc = (2.217852149170099,), devloss = 1.5449113f0, devppl = 4.687556f0, devbpc = 2.2288358211674524)\n",
      "┣█████████████▋      ┫ [68.36%, 2818/4122, 39:28/57:43, 1.20i/s] (trnloss = (1.5375768f0,), trnppl = (4.653301f0,), trnbpc = (2.218254416590467,), devloss = 1.5442202f0, devppl = 4.6843176f0, devbpc = 2.227838837740401)\n",
      "┣█████████████▉      ┫ [69.60%, 2869/4122, 40:11/57:44, 1.17i/s] (trnloss = (1.5366194f0,), trnppl = (4.648848f0,), trnbpc = (2.2168732239213877,), devloss = 1.5422939f0, devppl = 4.6753025f0, devbpc = 2.2250597700851085)\n",
      "┣██████████████▏     ┫ [70.89%, 2922/4122, 40:55/57:43, 1.21i/s] (trnloss = (1.5361581f0,), trnppl = (4.6467037f0,), trnbpc = (2.216207651062549,), devloss = 1.5418757f0, devppl = 4.673348f0, devbpc = 2.224456454945882)\n",
      "┣██████████████▍     ┫ [72.15%, 2974/4122, 41:38/57:43, 1.20i/s] (trnloss = (1.5347946f0,), trnppl = (4.6403723f0,), trnbpc = (2.2142405135019803,), devloss = 1.5407853f0, devppl = 4.668255f0, devbpc = 2.2228833296384396)\n",
      "┣██████████████▋     ┫ [73.39%, 3025/4122, 42:22/57:44, 1.16i/s] (trnloss = (1.5341568f0,), trnppl = (4.6374135f0,), trnbpc = (2.213320406319864,), devloss = 1.5388428f0, devppl = 4.6591954f0, devbpc = 2.22008087234263)\n",
      "┣██████████████▉     ┫ [74.67%, 3078/4122, 43:06/57:43, 1.21i/s] (trnloss = (1.5325963f0,), trnppl = (4.6301827f0,), trnbpc = (2.2110691534200697,), devloss = 1.5381073f0, devppl = 4.65577f0, devbpc = 2.2190197393868067)\n",
      "┣███████████████▏    ┫ [75.89%, 3128/4122, 43:50/57:45, 1.15i/s] (trnloss = (1.531401f0,), trnppl = (4.6246514f0,), trnbpc = (2.2093446833798684,), devloss = 1.5362455f0, devppl = 4.64711f0, devbpc = 2.216333714345631)\n",
      "┣███████████████▍    ┫ [77.12%, 3179/4122, 44:33/57:46, 1.18i/s] (trnloss = (1.5316399f0,), trnppl = (4.6257567f0,), trnbpc = (2.2096893366121977,), devloss = 1.5365839f0, devppl = 4.6486826f0, devbpc = 2.216821973091431)\n",
      "┣███████████████▋    ┫ [78.41%, 3232/4122, 45:17/57:45, 1.21i/s] (trnloss = (1.529685f0,), trnppl = (4.6167226f0,), trnbpc = (2.206868993120698,), devloss = 1.5347085f0, devppl = 4.6399727f0, devbpc = 2.214116342028057)\n",
      "┣███████████████▉    ┫ [79.69%, 3285/4122, 46:00/57:44, 1.22i/s] (trnloss = (1.5308269f0,), trnppl = (4.6219974f0,), trnbpc = (2.208516414933313,), devloss = 1.5353714f0, devppl = 4.6430497f0, devbpc = 2.215072737549505)\n",
      "┣████████████████▏   ┫ [80.93%, 3336/4122, 46:44/57:45, 1.16i/s] (trnloss = (1.5272777f0,), trnppl = (4.605622f0,), trnbpc = (2.2033959754691748,), devloss = 1.531385f0, devppl = 4.624577f0, devbpc = 2.209321465722002)\n",
      "┣████████████████▍   ┫ [82.19%, 3388/4122, 47:27/57:44, 1.20i/s] (trnloss = (1.5273163f0,), trnppl = (4.6057997f0,), trnbpc = (2.2034516978480543,), devloss = 1.5317037f0, devppl = 4.6260514f0, devbpc = 2.2097813473304093)\n",
      "┣████████████████▋   ┫ [83.45%, 3440/4122, 48:11/57:44, 1.20i/s] (trnloss = (1.5249934f0,), trnppl = (4.5951133f0,), trnbpc = (2.2001004439133416,), devloss = 1.5301247f0, devppl = 4.6187525f0, devbpc = 2.2075032651370803)\n",
      "┣████████████████▉   ┫ [84.69%, 3491/4122, 48:54/57:45, 1.17i/s] (trnloss = (4.4911537f0,), trnppl = (89.22433f0,), trnbpc = (6.479365195445109,), devloss = 4.473997f0, devppl = 87.7066f0, devbpc = 6.454613452332933)\n",
      "┣█████████████████▏  ┫ [85.95%, 3543/4122, 49:38/57:44, 1.20i/s] (trnloss = (4.308559f0,), trnppl = (74.33329f0,), trnbpc = (6.215936617396131,), devloss = 4.300215f0, devppl = 73.71562f0, devbpc = 6.203898519766337)\n",
      "┣█████████████████▍  ┫ [87.21%, 3595/4122, 50:21/57:44, 1.20i/s] (trnloss = (4.193269f0,), trnppl = (66.23896f0,), trnbpc = (6.049608068163088,), devloss = 4.185318f0, devppl = 65.71439f0, devbpc = 6.038137513281142)\n",
      "┣█████████████████▋  ┫ [88.45%, 3646/4122, 51:05/57:45, 1.16i/s] (trnloss = (4.0827603f0,), trnppl = (59.308956f0,), trnbpc = (5.890178087021454,), devloss = 4.072921f0, devppl = 58.728245f0, devbpc = 5.875982639019237)\n",
      "┣█████████████████▉  ┫ [89.71%, 3698/4122, 51:48/57:44, 1.20i/s] (trnloss = (4.004634f0,), trnppl = (54.851738f0,), trnbpc = (5.777465473160193,), devloss = 3.9940035f0, devppl = 54.271732f0, devbpc = 5.762129092252152)\n",
      "┣██████████████████▏ ┫ [90.98%, 3750/4122, 52:31/57:44, 1.20i/s] (trnloss = (3.9325867f0,), trnppl = (51.038826f0,), trnbpc = (5.673523286562332,), devloss = 3.9211092f0, devppl = 50.45638f0, devbpc = 5.6569647969372605)\n",
      "┣██████████████████▍ ┫ [92.21%, 3801/4122, 53:15/57:45, 1.16i/s] (trnloss = (3.8697782f0,), trnppl = (47.93175f0,), trnbpc = (5.582909755406339,), devloss = 3.858109f0, devppl = 47.37568f0, devbpc = 5.5660747176786805)\n"
     ]
    },
    {
     "name": "stderr",
     "output_type": "stream",
     "text": [
      "┣██████████████████▋ ┫ [93.47%, 3853/4122, 53:58/57:44, 1.20i/s] (trnloss = (3.8139915f0,), trnppl = (45.331017f0,), trnbpc = (5.502426690316769,), devloss = 3.801562f0, devppl = 44.771065f0, devbpc = 5.484494747241907)\n",
      "┣██████████████████▉ ┫ [94.74%, 3905/4122, 54:42/57:44, 1.20i/s] (trnloss = (3.7671504f0,), trnppl = (43.256626f0,), trnbpc = (5.434849203347944,), devloss = 3.7554173f0, devppl = 42.75206f0, devbpc = 5.417921982919422)\n",
      "┣███████████████████▏┫ [95.95%, 3955/4122, 55:25/57:45, 1.15i/s] (trnloss = (3.7207808f0,), trnppl = (41.296627f0,), trnbpc = (5.3679520797459315,), devloss = 3.7079496f0, devppl = 40.770126f0, devbpc = 5.3494405551376625)\n",
      "┣███████████████████▍┫ [97.21%, 4007/4122, 56:08/57:45, 1.20i/s] (trnloss = (3.681657f0,), trnppl = (39.712147f0,), trnbpc = (5.311508405628663,), devloss = 3.6696758f0, devppl = 39.23918f0, devbpc = 5.294223117321046)\n",
      "┣███████████████████▋┫ [98.47%, 4059/4122, 56:51/57:44, 1.20i/s] (trnloss = (3.643354f0,), trnppl = (38.21981f0,), trnbpc = (5.256248660079934,), devloss = 3.630595f0, devppl = 37.73526f0, devbpc = 5.2378413569580875)\n",
      "┣███████████████████▉┫ [99.68%, 4109/4122, 57:35/57:45, 1.16i/s] (trnloss = (3.6154046f0,), trnppl = (37.16638f0,), trnbpc = (5.215926295689243,), devloss = 3.6024258f0, devppl = 36.687122f0, devbpc = 5.1972018565592055)\n",
      "┣████████████████████┫ [100.00%, 4122/4122, 57:55/57:55, 1.19i/s] (trnloss = (3.6118114f0,), trnppl = (37.033073f0,), trnbpc = (5.210742394626936,), devloss = 3.5989902f0, devppl = 36.561295f0, devbpc = 5.19224531656134)\n"
     ]
    },
    {
     "data": {
      "text/plain": [
       "SimpleLSTMModel(Embed(P(KnetArray{Float32,2}(256,206))), LSTM(input=256,hidden=256,layers=2,dropout=0.2), Linear(P(KnetArray{Float32,2}(206,256))), 0.2, Vocab(Dict(\"54\" => 67,\"101\" => 4,\"41\" => 52,\"65\" => 38,\"168\" => 126,\"159\" => 175,\"228\" => 183,\"190\" => 117,\"227\" => 96,\"88\" => 104…), [\"<s>\", \"<unk>\", \"32\", \"101\", \"116\", \"97\", \"105\", \"111\", \"110\", \"114\"  …  \"210\", \"239\", \"211\", \"198\", \"212\", \"240\", \"205\", \"220\", \"222\", \"200\"], 2, 1, split))"
      ]
     },
     "execution_count": 42,
     "metadata": {},
     "output_type": "execute_result"
    }
   ],
   "source": [
    "model = train!(model, trnx10, dev, trnmini)"
   ]
  },
  {
   "cell_type": "code",
   "execution_count": 43,
   "metadata": {},
   "outputs": [],
   "source": [
    "Knet.save(\"jld2/baseline-256-2.jld2\", \"model\", model)"
   ]
  },
  {
   "cell_type": "code",
   "execution_count": 44,
   "metadata": {},
   "outputs": [
    {
     "data": {
      "text/plain": [
       "(testloss = 1.5113528f0, testppl = 4.532859f0, testbpc = 2.1804211571057137)"
      ]
     },
     "execution_count": 44,
     "metadata": {},
     "output_type": "execute_result"
    }
   ],
   "source": [
    "testloss = loss(model, dtst)\n",
    "(testloss=testloss, testppl=exp.(testloss), testbpc=(testloss ./ log(2)))"
   ]
  },
  {
   "cell_type": "code",
   "execution_count": 45,
   "metadata": {},
   "outputs": [
    {
     "data": {
      "text/plain": [
       "(devloss = 1.5301247f0, devppl = 4.6187525f0, devbpc = 2.2075032651370803)"
      ]
     },
     "execution_count": 45,
     "metadata": {},
     "output_type": "execute_result"
    }
   ],
   "source": [
    "devloss = loss(model, ddev)\n",
    "(devloss=devloss, devppl=exp.(devloss), devbpc=(devloss ./ log(2)))"
   ]
  },
  {
   "cell_type": "code",
   "execution_count": 49,
   "metadata": {},
   "outputs": [
    {
     "data": {
      "text/plain": [
       "\"Syria is an intedrate past different [[Socalase]]. The Regure of The forespe a coroporfare development to Transtorashi enorys similar &quot;the evolutions of &quot;leaving.&quot;\""
      ]
     },
     "execution_count": 49,
     "metadata": {},
     "output_type": "execute_result"
    }
   ],
   "source": [
    "s = generate(model, start=\"Syria is\", maxlength=1024)"
   ]
  },
  {
   "cell_type": "code",
   "execution_count": null,
   "metadata": {},
   "outputs": [],
   "source": []
  }
 ],
 "metadata": {
  "kernelspec": {
   "display_name": "Julia 1.3.1",
   "language": "julia",
   "name": "julia-1.3"
  },
  "language_info": {
   "file_extension": ".jl",
   "mimetype": "application/julia",
   "name": "julia",
   "version": "1.3.1"
  }
 },
 "nbformat": 4,
 "nbformat_minor": 2
}

{
 "cells": [
  {
   "cell_type": "code",
   "execution_count": 1,
   "metadata": {},
   "outputs": [
    {
     "data": {
      "text/plain": [
       "train! (generic function with 1 method)"
      ]
     },
     "execution_count": 1,
     "metadata": {},
     "output_type": "execute_result"
    }
   ],
   "source": [
    "using Knet\n",
    "\n",
    "include(\"../src/data.jl\")\n",
    "include(\"../src/model.jl\")"
   ]
  },
  {
   "cell_type": "code",
   "execution_count": 2,
   "metadata": {},
   "outputs": [
    {
     "name": "stdout",
     "output_type": "stream",
     "text": [
      "Loading data from ../jld2/enwik8.jld2\n"
     ]
    },
    {
     "data": {
      "text/plain": [
       "Vocab(Dict(\"54\" => 67,\"101\" => 4,\"41\" => 52,\"65\" => 38,\"168\" => 126,\"159\" => 175,\"228\" => 183,\"190\" => 117,\"227\" => 96,\"88\" => 104…), [\"<s>\", \"<unk>\", \"32\", \"101\", \"116\", \"97\", \"105\", \"111\", \"110\", \"114\"  …  \"210\", \"239\", \"211\", \"198\", \"212\", \"240\", \"205\", \"220\", \"222\", \"200\"], 2, 1, split)"
      ]
     },
     "execution_count": 2,
     "metadata": {},
     "output_type": "execute_result"
    }
   ],
   "source": [
    "datadir = \"../data/enwik8\"\n",
    "jld2dir = \"../jld2/enwik8.jld2\"\n",
    "\n",
    "if !isfile(jld2dir)\n",
    "    BATCHSIZE = 64\n",
    "    println(\"Reading data from directory: $datadir\")\n",
    "    println(\"Setting batch size to $BATCHSIZE\")\n",
    "    vocab = Vocab(\"$datadir/train.txt\")\n",
    "    trainfile = TextReader(\"$datadir/train.txt\", vocab)\n",
    "    validfile = TextReader(\"$datadir/valid.txt\", vocab)\n",
    "    testfile = TextReader(\"$datadir/test.txt\", vocab)\n",
    "    dtrn = TextData(trainfile, batchsize=BATCHSIZE)\n",
    "    ddev = TextData(validfile, batchsize=BATCHSIZE)\n",
    "    dtst = TextData(testfile, batchsize=BATCHSIZE)\n",
    "    println(\"Saving data from $jld2dir\")\n",
    "    Knet.save(jld2dir, \"dtrn\", dtrn, \"dtst\", dtst, \"ddev\", ddev)\n",
    "else \n",
    "    println(\"Loading data from $jld2dir\")\n",
    "    (dtrn, dtst, ddev) = Knet.load(jld2dir, \"dtrn\", \"dtst\", \"ddev\")\n",
    "    vocab = dtrn.src.vocab\n",
    "end"
   ]
  },
  {
   "cell_type": "code",
   "execution_count": 3,
   "metadata": {},
   "outputs": [
    {
     "name": "stderr",
     "output_type": "stream",
     "text": [
      "┌ Info: Initializing and Training Language Model\n",
      "└ @ Main In[3]:1\n"
     ]
    },
    {
     "name": "stdout",
     "output_type": "stream",
     "text": [
      "embedding size: 512\n",
      "hidden size: 512\n",
      "layers: 3\n",
      "Collecting training data...\n",
      "epochs: 10\n"
     ]
    },
    {
     "data": {
      "text/plain": [
       "SimpleLSTMModel(Embed(P(KnetArray{Float32,2}(512,206))), LSTM(input=512,hidden=512,layers=3,dropout=0.2), Linear(P(KnetArray{Float32,2}(206,512))), 0.2, Vocab(Dict(\"54\" => 67,\"101\" => 4,\"41\" => 52,\"65\" => 38,\"168\" => 126,\"159\" => 175,\"228\" => 183,\"190\" => 117,\"227\" => 96,\"88\" => 104…), [\"<s>\", \"<unk>\", \"32\", \"101\", \"116\", \"97\", \"105\", \"111\", \"110\", \"114\"  …  \"210\", \"239\", \"211\", \"198\", \"212\", \"240\", \"205\", \"220\", \"222\", \"200\"], 2, 1, split))"
      ]
     },
     "execution_count": 3,
     "metadata": {},
     "output_type": "execute_result"
    }
   ],
   "source": [
    "@info \"Initializing and Training Language Model\"\n",
    "epochs, em_size, hidden_size, layers = 10, 512, 512, 3\n",
    "println(\"embedding size: \", em_size)\n",
    "println(\"hidden size: \", hidden_size)\n",
    "println(\"layers: \", layers)\n",
    "\n",
    "println(\"Collecting training data...\")\n",
    "println(\"epochs: \", epochs)\n",
    "ctrn = collect(dtrn)\n",
    "trnx10 = collect(flatten(shuffle!(ctrn) for i in 1:epochs))\n",
    "trnmini = ctrn[1:20]\n",
    "dev = collect(ddev)\n",
    "\n",
    "model = SimpleLSTMModel(em_size, hidden_size, vocab; layers=layers, dropout=0.2)"
   ]
  },
  {
   "cell_type": "code",
   "execution_count": null,
   "metadata": {},
   "outputs": [
    {
     "name": "stderr",
     "output_type": "stream",
     "text": [
      "\n",
      "┣                    ┫ [0.01%, 1/13740, 00:58/219:55:57, 57.62s/i] (trnloss = (4.9918785f0,), trnppl = (147.2127f0,), trnbpc = (7.201758370406836,), devloss = 4.987161f0, devppl = 146.51988f0, devbpc = 7.194952672946893)\n",
      "┣                    ┫ [0.11%, 15/13740, 02:17/34:47:14, 5.65s/i] (trnloss = (3.5407028f0,), trnppl = (34.49115f0,), trnbpc = (5.108154399421969,), devloss = 3.5379148f0, devppl = 34.395123f0, devbpc = 5.10413206918359)\n",
      "┣                    ┫ [0.20%, 28/13740, 03:35/29:15:56, 6.00s/i] (trnloss = (3.5248313f0,), trnppl = (33.948048f0,), trnbpc = (5.0852566292860955,), devloss = 3.523438f0, devppl = 33.90078f0, devbpc = 5.08324649606281)\n",
      "┣                    ┫ [0.30%, 41/13740, 04:53/27:14:44, 6.00s/i] (trnloss = (3.5246823f0,), trnppl = (33.94299f0,), trnbpc = (5.085041650972516,), devloss = 3.5227232f0, devppl = 33.876556f0, devbpc = 5.082215288088237)\n",
      "┣                    ┫ [0.40%, 55/13740, 06:13/25:52:09, 5.72s/i] (trnloss = (3.522422f0,), trnppl = (33.866356f0,), trnbpc = (5.081780859912158,), devloss = 3.5206108f0, devppl = 33.80507f0, devbpc = 5.079167755514948)\n",
      "┣                    ┫ [0.50%, 69/13740, 07:33/25:04:11, 5.75s/i] (trnloss = (3.5172074f0,), trnppl = (33.690212f0,), trnbpc = (5.074257650832815,), devloss = 3.5164018f0, devppl = 33.663082f0, devbpc = 5.073095392078284)\n",
      "┣                    ┫ [0.60%, 82/13740, 08:51/24:43:45, 6.01s/i] (trnloss = (3.510451f0,), trnppl = (33.46336f0,), trnbpc = (5.0645103621125145,), devloss = 3.5086746f0, devppl = 33.403965f0, devbpc = 5.061947476649357)\n",
      "┣▏                   ┫ [0.69%, 95/13740, 10:10/24:29:21, 6.02s/i] (trnloss = (3.5061123f0,), trnppl = (33.318485f0,), trnbpc = (5.058250881551712,), devloss = 3.5045142f0, devppl = 33.26528f0, devbpc = 5.055945282134245)\n",
      "┣▏                   ┫ [0.79%, 108/13740, 11:28/24:17:58, 6.00s/i] (trnloss = (3.5141149f0,), trnppl = (33.586185f0,), trnbpc = (5.069796076904132,), devloss = 3.5115974f0, devppl = 33.50174f0, devbpc = 5.066164147283211)\n",
      "┣▏                   ┫ [0.88%, 121/13740, 12:46/24:09:15, 6.01s/i] (trnloss = (3.5038314f0,), trnppl = (33.242573f0,), trnbpc = (5.054960165510103,), devloss = 3.5024867f0, devppl = 33.197903f0, devbpc = 5.05302020120837)"
     ]
    }
   ],
   "source": [
    "model = train!(model, trnx10, dev, trnmini)"
   ]
  },
  {
   "cell_type": "code",
   "execution_count": null,
   "metadata": {},
   "outputs": [],
   "source": [
    "Knet.save(\"../jld2/baseline-512-3.jld2\", \"model\", model)"
   ]
  },
  {
   "cell_type": "code",
   "execution_count": null,
   "metadata": {},
   "outputs": [],
   "source": [
    "testloss = loss(model, dtst)\n",
    "(testloss=testloss, testppl=exp.(testloss), testbpc=(testloss ./ log(2)))"
   ]
  },
  {
   "cell_type": "code",
   "execution_count": null,
   "metadata": {},
   "outputs": [],
   "source": [
    "devloss = loss(model, ddev)\n",
    "(devloss=devloss, devppl=exp.(devloss), devbpc=(devloss ./ log(2)))"
   ]
  },
  {
   "cell_type": "code",
   "execution_count": null,
   "metadata": {},
   "outputs": [],
   "source": [
    "s = generate(model, start=\"Syria is\", maxlength=1024)"
   ]
  },
  {
   "cell_type": "code",
   "execution_count": null,
   "metadata": {},
   "outputs": [],
   "source": []
  }
 ],
 "metadata": {
  "kernelspec": {
   "display_name": "Julia 1.3.1",
   "language": "julia",
   "name": "julia-1.3"
  },
  "language_info": {
   "file_extension": ".jl",
   "mimetype": "application/julia",
   "name": "julia",
   "version": "1.3.1"
  }
 },
 "nbformat": 4,
 "nbformat_minor": 2
}

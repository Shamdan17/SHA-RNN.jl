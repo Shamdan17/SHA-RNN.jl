{
 "cells": [
  {
   "cell_type": "code",
   "execution_count": 1,
   "metadata": {},
   "outputs": [
    {
     "name": "stdout",
     "output_type": "stream",
     "text": [
      "\u001b[32m\u001b[1mActivating\u001b[22m\u001b[39m environment at `~/develop-knet/Project.toml`\n"
     ]
    }
   ],
   "source": [
    "using Pkg\n",
    "Pkg.activate(\"/home/asafaya19/develop-knet/Project.toml\")"
   ]
  },
  {
   "cell_type": "code",
   "execution_count": 2,
   "metadata": {},
   "outputs": [
    {
     "data": {
      "text/plain": [
       "train! (generic function with 1 method)"
      ]
     },
     "execution_count": 2,
     "metadata": {},
     "output_type": "execute_result"
    }
   ],
   "source": [
    "using Knet\n",
    "\n",
    "include(\"../src/data.jl\")\n",
    "include(\"../src/xmodel.jl\")\n",
    "include(\"../src/train.jl\")"
   ]
  },
  {
   "cell_type": "code",
   "execution_count": 3,
   "metadata": {},
   "outputs": [
    {
     "name": "stdout",
     "output_type": "stream",
     "text": [
      "Loading data from ../jld2/enwik8.jld2\n"
     ]
    },
    {
     "data": {
      "text/plain": [
       "Vocab(Dict(\"54\" => 67,\"101\" => 4,\"41\" => 52,\"65\" => 38,\"168\" => 126,\"159\" => 175,\"228\" => 183,\"190\" => 117,\"227\" => 96,\"88\" => 104…), [\"<s>\", \"<unk>\", \"32\", \"101\", \"116\", \"97\", \"105\", \"111\", \"110\", \"114\"  …  \"210\", \"239\", \"211\", \"198\", \"212\", \"240\", \"205\", \"220\", \"222\", \"200\"], 2, 1, split)"
      ]
     },
     "execution_count": 3,
     "metadata": {},
     "output_type": "execute_result"
    }
   ],
   "source": [
    "datadir = \"../data/enwik8\"\n",
    "jld2dir = \"../jld2/enwik8.jld2\"\n",
    "\n",
    "if !isfile(jld2dir)\n",
    "    BATCHSIZE = 64\n",
    "    println(\"Reading data from directory: $datadir\")\n",
    "    println(\"Setting batch size to $BATCHSIZE\")\n",
    "    vocab = Vocab(\"$datadir/train.txt\")\n",
    "    trainfile = TextReader(\"$datadir/train.txt\", vocab)\n",
    "    validfile = TextReader(\"$datadir/valid.txt\", vocab)\n",
    "    testfile = TextReader(\"$datadir/test.txt\", vocab)\n",
    "    dtrn = TextData(trainfile, batchsize=BATCHSIZE)\n",
    "    ddev = TextData(validfile, batchsize=BATCHSIZE)\n",
    "    dtst = TextData(testfile, batchsize=BATCHSIZE)\n",
    "    println(\"Saving data from $jld2dir\")\n",
    "    Knet.save(jld2dir, \"dtrn\", dtrn, \"dtst\", dtst, \"ddev\", ddev)\n",
    "else \n",
    "    println(\"Loading data from $jld2dir\")\n",
    "    (dtrn, dtst, ddev) = Knet.load(jld2dir, \"dtrn\", \"dtst\", \"ddev\")\n",
    "    vocab = dtrn.src.vocab\n",
    "end"
   ]
  },
  {
   "cell_type": "code",
   "execution_count": 4,
   "metadata": {},
   "outputs": [
    {
     "name": "stderr",
     "output_type": "stream",
     "text": [
      "┌ Info: Initializing and Training Language Model\n",
      "└ @ Main In[4]:1\n"
     ]
    },
    {
     "name": "stdout",
     "output_type": "stream",
     "text": [
      "embedding size: 256\n",
      "hidden size: 256\n",
      "layers: 1\n",
      "Collecting training data...\n",
      "epochs: 20\n"
     ]
    },
    {
     "data": {
      "text/plain": [
       "XModel(Embed(P(KnetArray{Float32,2}(256,206))), LSTM(input=256,hidden=256,dropout=0.2), Boom(Linear(P(KnetArray{Float32,2}(1024,256)), P(KnetArray{Float32,1}(1024))), Linear(P(KnetArray{Float32,2}(256,1024)), P(KnetArray{Float32,1}(256))), 0.1, false, NNlib.gelu), Linear(P(KnetArray{Float32,2}(206,256)), P(KnetArray{Float32,1}(206))), 0.2, Vocab(Dict(\"54\" => 67,\"101\" => 4,\"41\" => 52,\"65\" => 38,\"168\" => 126,\"159\" => 175,\"228\" => 183,\"190\" => 117,\"227\" => 96,\"88\" => 104…), [\"<s>\", \"<unk>\", \"32\", \"101\", \"116\", \"97\", \"105\", \"111\", \"110\", \"114\"  …  \"210\", \"239\", \"211\", \"198\", \"212\", \"240\", \"205\", \"220\", \"222\", \"200\"], 2, 1, split))"
      ]
     },
     "execution_count": 4,
     "metadata": {},
     "output_type": "execute_result"
    }
   ],
   "source": [
    "@info \"Initializing and Training Language Model\"\n",
    "epochs, em_size, hidden_size, layers = 20, 256, 256, 1\n",
    "println(\"embedding size: \", em_size)\n",
    "println(\"hidden size: \", hidden_size)\n",
    "println(\"layers: \", layers)\n",
    "\n",
    "println(\"Collecting training data...\")\n",
    "println(\"epochs: \", epochs)\n",
    "ctrn = collect(dtrn)\n",
    "trnx10 = collect(flatten(shuffle!(ctrn) for i in 1:epochs))\n",
    "trnmini = ctrn[1:20]\n",
    "dev = collect(ddev);\n",
    "\n",
    "model = XModel(em_size, hidden_size, vocab; layers=layers, dropout=0.2)"
   ]
  },
  {
   "cell_type": "code",
   "execution_count": null,
   "metadata": {},
   "outputs": [
    {
     "name": "stderr",
     "output_type": "stream",
     "text": [
      "\n",
      "┣                    ┫ [0.00%, 1/27480, 00:08/64:22:30, 8.43s/i] (trnloss = (1.2666105f0,), trnppl = (3.5488036f0,), trnbpc = (1.8273326916997772,), devloss = 1.2705009f0, devppl = 3.5626366f0, devbpc = 1.832945345510685)\n",
      "┣                    ┫ [0.59%, 162/27480, 00:46/02:09:36, 4.30i/s] (trnloss = (1.2673681f0,), trnppl = (3.551493f0,), trnbpc = (1.8284256414460103,), devloss = 1.2729763f0, devppl = 3.5714664f0, devbpc = 1.8365165652558513)\n",
      "┣▏                   ┫ [1.15%, 317/27480, 01:23/02:00:15, 4.14i/s] (trnloss = (1.267088f0,), trnppl = (3.5504987f0,), trnbpc = (1.8280216541991336,), devloss = 1.2734703f0, devppl = 3.5732312f0, devbpc = 1.8372292613610266)\n",
      "┣▎                   ┫ [1.72%, 473/27480, 02:01/01:56:48, 4.17i/s] (trnloss = (1.2689669f0,), trnppl = (3.5571759f0,), trnbpc = (1.8307322727593824,), devloss = 1.2743429f0, devppl = 3.5763507f0, devbpc = 1.8384881743653425)\n",
      "┣▍                   ┫ [2.28%, 626/27480, 02:38/01:55:37, 4.09i/s] (trnloss = (1.2681619f0,), trnppl = (3.5543134f0,), trnbpc = (1.8295708739181058,), devloss = 1.2718111f0, devppl = 3.5673075f0, devbpc = 1.834835606826318)\n",
      "┣▌                   ┫ [2.85%, 782/27480, 03:16/01:54:31, 4.16i/s] (trnloss = (1.2669348f0,), trnppl = (3.5499544f0,), trnbpc = (1.8278004845101241,), devloss = 1.2705559f0, devppl = 3.5628324f0, devbpc = 1.8330246295127328)\n",
      "┣▋                   ┫ [3.42%, 939/27480, 03:53/01:53:26, 4.24i/s] (trnloss = (1.2662735f0,), trnppl = (3.5476077f0,), trnbpc = (1.826846496745788,), devloss = 1.2709415f0, devppl = 3.5642066f0, devbpc = 1.8335809933882738)\n",
      "┣▊                   ┫ [3.97%, 1091/27480, 04:30/01:53:27, 4.03i/s] (trnloss = (1.2674547f0,), trnppl = (3.5518007f0,), trnbpc = (1.8285506728331877,), devloss = 1.2722669f0, devppl = 3.5689337f0, devbpc = 1.8354930965005667)\n",
      "┣▉                   ┫ [4.53%, 1246/27480, 05:08/01:53:06, 4.14i/s] (trnloss = (1.2675374f0,), trnppl = (3.5520942f0,), trnbpc = (1.8286698568102355,), devloss = 1.2707182f0, devppl = 3.563411f0, devbpc = 1.833258869883208)\n",
      "┣█                   ┫ [5.10%, 1402/27480, 05:45/01:52:46, 4.16i/s] (trnloss = (1.2673662f0,), trnppl = (3.5514863f0,), trnbpc = (1.8284228897235966,), devloss = 1.2703483f0, devppl = 3.562093f0, devbpc = 1.8327252077175806)\n",
      "┣█▏                  ┫ [5.67%, 1558/27480, 06:22/01:52:26, 4.18i/s] (trnloss = (1.2665181f0,), trnppl = (3.5484757f0,), trnbpc = (1.8271994051453586,), devloss = 1.271014f0, devppl = 3.564465f0, devbpc = 1.8336855588399985)\n",
      "┣█▏                  ┫ [6.23%, 1713/27480, 07:00/01:52:21, 4.11i/s] (trnloss = (1.2661377f0,), trnppl = (3.547126f0,), trnbpc = (1.8266506085064553,), devloss = 1.2694092f0, devppl = 3.5587494f0, devbpc = 1.8313703283940834)\n",
      "┣█▎                  ┫ [6.80%, 1869/27480, 07:38/01:52:12, 4.14i/s] (trnloss = (1.2654436f0,), trnppl = (3.5446646f0,), trnbpc = (1.825649153530481,), devloss = 1.2700462f0, devppl = 3.5610173f0, devbpc = 1.8322894036802941)\n",
      "┣█▍                  ┫ [7.37%, 2026/27480, 08:15/01:51:58, 4.20i/s] (trnloss = (1.2649407f0,), trnppl = (3.5428827f0,), trnbpc = (1.824923730709142,), devloss = 1.2689524f0, devppl = 3.5571241f0, devbpc = 1.830711290875977)\n",
      "┣█▌                  ┫ [7.94%, 2181/27480, 08:53/01:51:54, 4.12i/s] (trnloss = (1.2676712f0,), trnppl = (3.5525699f0,), trnbpc = (1.8288629933271545,), devloss = 1.2721336f0, devppl = 3.568458f0, devbpc = 1.835300819896902)\n",
      "┣█▋                  ┫ [8.50%, 2337/27480, 09:30/01:51:46, 4.17i/s] (trnloss = (1.2644453f0,), trnppl = (3.541128f0,), trnbpc = (1.824208970812156,), devloss = 1.2689588f0, devppl = 3.557147f0, devbpc = 1.8307205779391236)\n",
      "┣█▊                  ┫ [9.08%, 2494/27480, 10:08/01:51:37, 4.18i/s] (trnloss = (1.264972f0,), trnppl = (3.5429935f0,), trnbpc = (1.824968790163668,), devloss = 1.2691044f0, devppl = 3.5576649f0, devbpc = 1.8309305687558273)\n",
      "┣█▉                  ┫ [9.65%, 2652/27480, 10:45/01:51:27, 4.21i/s] (trnloss = (1.2666241f0,), trnppl = (3.5488517f0,), trnbpc = (1.8273522977219756,), devloss = 1.2698256f0, devppl = 3.5602314f0, devbpc = 1.8319710637935471)\n",
      "┣██                  ┫ [10.21%, 2807/27480, 11:23/01:51:27, 4.11i/s] (trnloss = (1.2643112f0,), trnppl = (3.540653f0,), trnbpc = (1.8240154903299353,), devloss = 1.2677515f0, devppl = 3.5528548f0, devbpc = 1.8289787376511852)\n",
      "┣██▏                 ┫ [10.79%, 2964/27480, 12:00/01:51:19, 4.20i/s] (trnloss = (1.2653568f0,), trnppl = (3.544357f0,), trnbpc = (1.825523950160653,), devloss = 1.2693973f0, devppl = 3.558707f0, devbpc = 1.8313531301289971)\n",
      "┣██▎                 ┫ [11.35%, 3120/27480, 12:38/01:51:16, 4.15i/s] (trnloss = (1.2645533f0,), trnppl = (3.5415103f0,), trnbpc = (1.8243647870938378,), devloss = 1.2693634f0, devppl = 3.5585864f0, devbpc = 1.831304287056152)\n",
      "┣██▍                 ┫ [11.92%, 3275/27480, 13:15/01:51:14, 4.14i/s] (trnloss = (1.2654953f0,), trnppl = (3.544848f0,), trnbpc = (1.8257237940009556,), devloss = 1.2682381f0, devppl = 3.554584f0, devbpc = 1.829680770832007)\n",
      "┣██▍                 ┫ [12.50%, 3434/27480, 13:53/01:51:06, 4.23i/s] (trnloss = (1.2653687f0,), trnppl = (3.5443993f0,), trnbpc = (1.8255411484257393,), devloss = 1.2701137f0, devppl = 3.5612574f0, devbpc = 1.8323867458606826)\n",
      "┣██▌                 ┫ [13.07%, 3593/27480, 14:30/01:50:55, 4.28i/s] (trnloss = (1.2658114f0,), trnppl = (3.545969f0,), trnbpc = (1.826179891991044,), devloss = 1.268934f0, devppl = 3.5570588f0, devbpc = 1.8306848055477443)\n",
      "┣██▋                 ┫ [13.64%, 3747/27480, 15:08/01:50:57, 4.10i/s] (trnloss = (1.2629781f0,), trnppl = (3.535936f0,), trnbpc = (1.8220922083453366,), devloss = 1.2687768f0, devppl = 3.5564995f0, devbpc = 1.830457960431256)\n",
      "┣██▊                 ┫ [14.21%, 3905/27480, 15:45/01:50:51, 4.23i/s] (trnloss = (1.2640548f0,), trnppl = (3.5397453f0,), trnbpc = (1.8236455556479294,), devloss = 1.2669294f0, devppl = 3.5499353f0, devbpc = 1.8277927452908351)\n",
      "┣██▉                 ┫ [14.77%, 4060/27480, 16:23/01:50:51, 4.13i/s] (trnloss = (1.2650017f0,), trnppl = (3.5430987f0,), trnbpc = (1.8250116138437327,), devloss = 1.2685972f0, devppl = 3.555861f0, devbpc = 1.8301989545590567)\n",
      "┣███                 ┫ [15.35%, 4218/27480, 17:00/01:50:47, 4.19i/s] (trnloss = (1.2631055f0,), trnppl = (3.5363867f0,), trnbpc = (1.8222760577991088,), devloss = 1.2692857f0, devppl = 3.5583098f0, devbpc = 1.8311921543677896)\n",
      "┣███▏                ┫ [15.92%, 4376/27480, 17:38/01:50:42, 4.23i/s] (trnloss = (1.2640197f0,), trnppl = (3.5396214f0,), trnbpc = (1.8235949927485757,), devloss = 1.2670426f0, devppl = 3.5503373f0, devbpc = 1.8279561288091548)\n",
      "┣███▎                ┫ [16.50%, 4533/27480, 18:15/01:50:40, 4.18i/s] (trnloss = (1.2636364f0,), trnppl = (3.5382645f0,), trnbpc = (1.823041896543401,), devloss = 1.269113f0, devppl = 3.5576954f0, devbpc = 1.8309429515066893)\n",
      "┣███▍                ┫ [17.06%, 4689/27480, 18:53/01:50:39, 4.15i/s] (trnloss = (1.2642307f0,), trnppl = (3.540368f0,), trnbpc = (1.823899402040603,), devloss = 1.2697967f0, devppl = 3.5601287f0, devbpc = 1.8319294439920384)\n",
      "┣███▌                ┫ [17.64%, 4847/27480, 19:30/01:50:35, 4.21i/s] (trnloss = (1.2626837f0,), trnppl = (3.5348954f0,), trnbpc = (1.8216675831803564,), devloss = 1.2674899f0, devppl = 3.5519257f0, devbpc = 1.8286014077151922)\n",
      "┣███▋                ┫ [18.21%, 5005/27480, 20:08/01:50:32, 4.21i/s] (trnloss = (1.2619817f0,), trnppl = (3.532415f0,), trnbpc = (1.8206547773494253,), devloss = 1.2679356f0, devppl = 3.5535092f0, devbpc = 1.8292444508467682)\n",
      "┣███▊                ┫ [18.79%, 5163/27480, 20:45/01:50:28, 4.22i/s] (trnloss = (1.2629923f0,), trnppl = (3.5359862f0,), trnbpc = (1.8221126742807892,), devloss = 1.266988f0, devppl = 3.5501435f0, devbpc = 1.8278773607550598)\n",
      "┣███▊                ┫ [19.34%, 5316/27480, 21:23/01:50:33, 4.05i/s] (trnloss = (1.2616996f0,), trnppl = (3.5314183f0,), trnbpc = (1.820247694414833,), devloss = 1.2649707f0, devppl = 3.5429888f0, devbpc = 1.8249668983545084)\n",
      "┣███▉                ┫ [19.91%, 5471/27480, 22:01/01:50:33, 4.14i/s] (trnloss = (1.2614084f0,), trnppl = (3.5303903f0,), trnbpc = (1.819827712781426,), devloss = 1.2652891f0, devppl = 3.544117f0, devbpc = 1.825426264014963)\n"
     ]
    },
    {
     "name": "stderr",
     "output_type": "stream",
     "text": [
      "┣████                ┫ [20.47%, 5626/27480, 22:38/01:50:34, 4.12i/s] (trnloss = (1.2629907f0,), trnppl = (3.5359807f0,), trnbpc = (1.822110438506328,), devloss = 1.2661588f0, devppl = 3.547201f0, devbpc = 1.826681049435658)\n",
      "┣████▏               ┫ [21.04%, 5783/27480, 23:15/01:50:31, 4.21i/s] (trnloss = (1.2603744f0,), trnppl = (3.5267417f0,), trnbpc = (1.8183359352678419,), devloss = 1.2648045f0, devppl = 3.5424001f0, devbpc = 1.8247271545392056)\n",
      "┣████▎               ┫ [21.62%, 5940/27480, 23:53/01:50:28, 4.22i/s] (trnloss = (1.261209f0,), trnppl = (3.5296865f0,), trnbpc = (1.8195399858065324,), devloss = 1.2675376f0, devppl = 3.5520952f0, devbpc = 1.8286702007755373)\n",
      "┣████▍               ┫ [22.20%, 6100/27480, 24:30/01:50:23, 4.26i/s] (trnloss = (1.2607262f0,), trnppl = (3.5279827f0,), trnbpc = (1.8188434560705382,), devloss = 1.2667795f0, devppl = 3.5494034f0, devbpc = 1.8275765630987006)\n",
      "┣████▌               ┫ [22.76%, 6254/27480, 25:08/01:50:25, 4.11i/s] (trnloss = (1.2611245f0,), trnppl = (3.529388f0,), trnbpc = (1.8194180501070707,), devloss = 1.2659117f0, devppl = 3.5463245f0, devbpc = 1.8263245294004193)\n",
      "┣████▋               ┫ [23.33%, 6411/27480, 25:45/01:50:23, 4.19i/s] (trnloss = (1.2610586f0,), trnppl = (3.5291553f0,), trnbpc = (1.8193229437011436,), devloss = 1.2648205f0, devppl = 3.5424566f0, devbpc = 1.8247502002144214)\n",
      "┣████▊               ┫ [23.90%, 6567/27480, 26:23/01:50:24, 4.12i/s] (trnloss = (1.2612048f0,), trnppl = (3.5296717f0,), trnbpc = (1.8195339664137522,), devloss = 1.2655402f0, devppl = 3.5450075f0, devbpc = 1.8257886314603309)"
     ]
    }
   ],
   "source": [
    "model.rnn.h, model.rnn.c = 0, 0\n",
    "model = train!(model, trnx10, dev, trnmini)"
   ]
  },
  {
   "cell_type": "code",
   "execution_count": 9,
   "metadata": {},
   "outputs": [
    {
     "data": {
      "text/plain": [
       "(testloss = 1.2621013f0, testppl = 3.5328372f0, testbpc = 1.8208272759482407)"
      ]
     },
     "execution_count": 9,
     "metadata": {},
     "output_type": "execute_result"
    }
   ],
   "source": [
    "testloss = loss(model, dtst)\n",
    "(testloss=testloss, testppl=exp.(testloss), testbpc=(testloss ./ log(2)))"
   ]
  },
  {
   "cell_type": "code",
   "execution_count": 10,
   "metadata": {},
   "outputs": [
    {
     "data": {
      "text/plain": [
       "(devloss = 1.270441f0, devppl = 3.5624235f0, devbpc = 1.8328590102199518)"
      ]
     },
     "execution_count": 10,
     "metadata": {},
     "output_type": "execute_result"
    }
   ],
   "source": [
    "devloss = loss(model, ddev)\n",
    "(devloss=devloss, devppl=exp.(devloss), devbpc=(devloss ./ log(2)))"
   ]
  },
  {
   "cell_type": "code",
   "execution_count": 27,
   "metadata": {},
   "outputs": [
    {
     "name": "stdout",
     "output_type": "stream",
     "text": [
      "United Nations higher organisations (as an researcher which shows all the non-sudden bishops, and not national broken next topics); unjustly violated both the Jews and the Family resistants terms allowing them to conspiracy high-executive following thy national [[Social Democratic Purpose (Special Education Technology)|income]] - indirect to acknowledge regarding the theoretical advisory influence:"
     ]
    }
   ],
   "source": [
    "print(generate(model, start=\"United Nations \", maxlength=1024))"
   ]
  }
 ],
 "metadata": {
  "kernelspec": {
   "display_name": "Julia 1.3.1",
   "language": "julia",
   "name": "julia-1.3.1"
  },
  "language_info": {
   "file_extension": ".jl",
   "mimetype": "application/julia",
   "name": "julia",
   "version": "1.3.1"
  }
 },
 "nbformat": 4,
 "nbformat_minor": 2
}

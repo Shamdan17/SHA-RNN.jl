{
 "cells": [
  {
   "cell_type": "code",
   "execution_count": null,
   "metadata": {},
   "outputs": [],
   "source": [
    "@info \"Train baseline Single Headed Attention Recurrent language model using enwik8 dataset...\"\n",
    "@info \"This model is the main model of SHA-RNN, which contains 4 layers of SHA-RNN\"\n",
    "using Knet\n",
    "\n",
    "include(\"../src/data.jl\")\n",
    "include(\"../src/model.jl\")\n",
    "include(\"../src/train.jl\")"
   ]
  },
  {
   "cell_type": "code",
   "execution_count": null,
   "metadata": {},
   "outputs": [],
   "source": [
    "\n",
    "BATCHSIZE = 2 ; @show BATCHSIZE\n",
    "BPTT = 1024 ; @show BPTT\n",
    "MEMSIZE = 5000 ; @show MEMSIZE\n",
    "EMSIZE = 1024 ; @show EMSIZE"
   ]
  },
  {
   "cell_type": "code",
   "execution_count": null,
   "metadata": {},
   "outputs": [],
   "source": [
    "datadir = \"../data/enwik8\"\n",
    "jld2dir = \"../jld2/enwik8.jld2\"\n",
    "if !isfile(jld2dir)\n",
    "    println(\"Reading data from directory: $datadir\")\n",
    "    println(\"Setting batch size to $BATCHSIZE\")\n",
    "    vocab = Vocab(\"$datadir/train.txt\")\n",
    "    trainfile = TextReader(\"$datadir/train.txt\", vocab)\n",
    "    validfile = TextReader(\"$datadir/valid.txt\", vocab)\n",
    "    testfile = TextReader(\"$datadir/test.txt\", vocab)\n",
    "    dtrn = TextData(trainfile, batchsize=BATCHSIZE, bptt=BPTT)\n",
    "    ddev = TextData(validfile, batchsize=BATCHSIZE, bptt=BPTT, randomize = false)\n",
    "    dtst = TextData(testfile, batchsize=BATCHSIZE, bptt=BPTT, randomize = false)\n",
    "    println(\"Saving data to $jld2dir\")\n",
    "    Knet.save(jld2dir, \"dtrn\", dtrn, \"dtst\", dtst, \"ddev\", ddev)\n",
    "else \n",
    "    println(\"Loading data from $jld2dir\")\n",
    "    (dtrn, dtst, ddev) = Knet.load(jld2dir, \"dtrn\", \"dtst\", \"ddev\")\n",
    "    vocab = dtrn.src.vocab\n",
    "    if dtrn.batchsize != BATCHSIZE\n",
    "        changebatchsize!(dtrn, BATCHSIZE)\n",
    "        changebatchsize!(ddev, BATCHSIZE)\n",
    "        changebatchsize!(dtst, BATCHSIZE)\n",
    "    end;\n",
    "    dtrn.bptt = BPTT\n",
    "    dtst.bptt = BPTT\n",
    "    ddev.bptt = BPTT\n",
    "end;"
   ]
  },
  {
   "cell_type": "code",
   "execution_count": null,
   "metadata": {},
   "outputs": [],
   "source": [
    "@info \"Initializing the model and collecting training data...\"\n",
    "epochs, em_size, hidden_size, layers = 8, EMSIZE, (EMSIZE*4), 4\n",
    "println(\"embedding size: \", em_size)\n",
    "println(\"hidden size: \", hidden_size)\n",
    "println(\"layers: \", layers)\n",
    "println(\"Collecting training data...\")\n",
    "println(\"epochs: \", epochs)\n",
    "\n",
    "ctrn = collect(dtrn)\n",
    "trn = collect(flatten(collect(dtrn) for i in 1:epochs))\n",
    "dev = collect(ddev)\n",
    "mintrn = ctrn[1:20];\n",
    "\n",
    "model = SHARNN(em_size, hidden_size, vocab, layers; num_max_positions=MEMSIZE);"
   ]
  },
  {
   "cell_type": "code",
   "execution_count": null,
   "metadata": {},
   "outputs": [],
   "source": [
    "@info \"Starting training, total iteration no: $(length(trn))\"\n",
    "initlamb!(model, length(trn); lr=0.002, warmup=(1200)/length(trn))\n",
    "model = train!(model, trn, dev, mintrn; report_iter=length(ctrn), update_per_n_batch=8)"
   ]
  },
  {
   "cell_type": "code",
   "execution_count": null,
   "metadata": {},
   "outputs": [],
   "source": [
    "halfdownlr(model)\n",
    "model = train!(model, trn, dev, mintrn; report_iter=length(ctrn), update_per_n_batch=8)"
   ]
  },
  {
   "cell_type": "code",
   "execution_count": null,
   "metadata": {},
   "outputs": [],
   "source": [
    "@info \"Finished training, Starting evaluation ...\"\n",
    "devloss = loss(model, ddev);\n",
    "println(\"Development set scores:    \", report_lm(devloss))\n",
    "testloss = loss(model, dtst);\n",
    "println(\"Test set scores:           \", report_lm(testloss))\n",
    "\n",
    "model_name = \"full_main.jld2\"\n",
    "@info \"Saving the model as $(model_name)\"\n",
    "Knet.save(model_name, \"model\", model);"
   ]
  }
 ],
 "metadata": {
  "kernelspec": {
   "display_name": "Julia 1.3.1",
   "language": "julia",
   "name": "julia-1.3"
  },
  "language_info": {
   "file_extension": ".jl",
   "mimetype": "application/julia",
   "name": "julia",
   "version": "1.3.1"
  }
 },
 "nbformat": 4,
 "nbformat_minor": 2
}
